{
  "cells": [
    {
      "cell_type": "code",
      "execution_count": null,
      "metadata": {
        "id": "_DMsJBoeO4sB",
        "colab": {
          "base_uri": "https://localhost:8080/"
        },
        "outputId": "13bdba34-e918-4659-bb08-d311dbaa76ab"
      },
      "outputs": [
        {
          "output_type": "stream",
          "name": "stdout",
          "text": [
            "Mounted at /content/gdrive\n"
          ]
        }
      ],
      "source": [
        "from google.colab import drive\n",
        "import sys\n",
        "import os\n",
        "\n",
        "import numpy as np\n",
        "from keras.models import Sequential\n",
        "from keras.layers import Dense\n",
        "from keras.layers import Dropout\n",
        "from keras.layers import Activation\n",
        "from sklearn.model_selection import train_test_split\n",
        "import matplotlib.pyplot as plt\n",
        "\n",
        "drive.mount(\"/content/gdrive\")\n",
        "#Specify path path of the directory\n",
        "#path = \"/content/gdrive/My Drive/Colab Notebooks/econ_indicator\"\n",
        "#sys.path.append(path)\n",
        "os.chdir('/content/gdrive/My Drive/Colab Notebooks/econ_indicator')"
      ]
    },
    {
      "cell_type": "code",
      "execution_count": null,
      "metadata": {
        "id": "pTXh4f7Rf6Ki",
        "colab": {
          "base_uri": "https://localhost:8080/",
          "height": 17
        },
        "outputId": "569ed9de-7e3d-45bb-cfd0-8881e1f50da7"
      },
      "outputs": [
        {
          "output_type": "display_data",
          "data": {
            "text/plain": [
              "<IPython.core.display.Javascript object>"
            ],
            "application/javascript": [
              "\n",
              "function ClickConnect(){\n",
              "  btn=document.querySelector(\"colab-connect-button\")\n",
              "  if(btn != null){\n",
              "    console.log(\"Click colab-connect-button\");\n",
              "    btn.click()\n",
              "  }\n",
              "  btn=document.getElementById('ok')\n",
              "  if(btn != null){\n",
              "    console.log(\"Click reconnect\");\n",
              "    btn.click()\n",
              "  }\n",
              "}\n",
              "setInterval(ClickConnect,60000)\n"
            ]
          },
          "metadata": {}
        }
      ],
      "source": [
        "import IPython\n",
        "from google.colab import output\n",
        "display(IPython.display.Javascript('''\n",
        "function ClickConnect(){\n",
        "  btn=document.querySelector(\"colab-connect-button\")\n",
        "  if(btn != null){\n",
        "    console.log(\"Click colab-connect-button\");\n",
        "    btn.click()\n",
        "  }\n",
        "  btn=document.getElementById('ok')\n",
        "  if(btn != null){\n",
        "    console.log(\"Click reconnect\");\n",
        "    btn.click()\n",
        "  }\n",
        "}\n",
        "setInterval(ClickConnect,60000)\n",
        "'''))"
      ]
    },
    {
      "cell_type": "code",
      "execution_count": null,
      "metadata": {
        "id": "N_FLy_P0PERZ",
        "colab": {
          "base_uri": "https://localhost:8080/"
        },
        "outputId": "ad2a1269-6f5c-46a1-954d-770306ce53e7"
      },
      "outputs": [
        {
          "output_type": "stream",
          "name": "stdout",
          "text": [
            "predicted_sales.csv  sales_indicators.csv\n"
          ]
        }
      ],
      "source": [
        "# !pwd\n",
        "!ls"
      ]
    },
    {
      "cell_type": "markdown",
      "metadata": {
        "id": "_Pn04cvjD4Qh"
      },
      "source": [
        "\n",
        "\n",
        "\n",
        "\n",
        "*   change epochs, batch size;\n",
        "*   adding 1/8 layer, change drop out rate\n",
        "*  change x,y\n",
        "\n",
        "\n",
        "\n",
        "\n",
        "\n",
        "\n"
      ]
    },
    {
      "cell_type": "code",
      "execution_count": null,
      "metadata": {
        "id": "3L6kej6fNQWb",
        "colab": {
          "base_uri": "https://localhost:8080/",
          "height": 389
        },
        "outputId": "2696a9cc-20f3-4bf8-b3e5-78d806db619b"
      },
      "outputs": [
        {
          "output_type": "error",
          "ename": "FileNotFoundError",
          "evalue": "ignored",
          "traceback": [
            "\u001b[0;31m---------------------------------------------------------------------------\u001b[0m",
            "\u001b[0;31mFileNotFoundError\u001b[0m                         Traceback (most recent call last)",
            "\u001b[0;32m<ipython-input-4-9106d7e024a1>\u001b[0m in \u001b[0;36m<module>\u001b[0;34m()\u001b[0m\n\u001b[1;32m      2\u001b[0m \u001b[0;32mfrom\u001b[0m \u001b[0mpandas\u001b[0m\u001b[0;34m.\u001b[0m\u001b[0mtseries\u001b[0m\u001b[0;34m.\u001b[0m\u001b[0mholiday\u001b[0m \u001b[0;32mimport\u001b[0m \u001b[0mUSFederalHolidayCalendar\u001b[0m \u001b[0;32mas\u001b[0m \u001b[0mcalendar\u001b[0m\u001b[0;34m\u001b[0m\u001b[0;34m\u001b[0m\u001b[0m\n\u001b[1;32m      3\u001b[0m \u001b[0;31m#df = pd.read_csv('sales_indicators.csv',index_col=0)\u001b[0m\u001b[0;34m\u001b[0m\u001b[0;34m\u001b[0m\u001b[0;34m\u001b[0m\u001b[0m\n\u001b[0;32m----> 4\u001b[0;31m \u001b[0mdf\u001b[0m \u001b[0;34m=\u001b[0m \u001b[0mpd\u001b[0m\u001b[0;34m.\u001b[0m\u001b[0mread_excel\u001b[0m\u001b[0;34m(\u001b[0m\u001b[0;34m'All_Data_Formatted.xlsx'\u001b[0m\u001b[0;34m,\u001b[0m \u001b[0mskiprows\u001b[0m\u001b[0;34m=\u001b[0m\u001b[0;36m1\u001b[0m\u001b[0;34m,\u001b[0m\u001b[0mindex_col\u001b[0m\u001b[0;34m=\u001b[0m\u001b[0;36m0\u001b[0m\u001b[0;34m)\u001b[0m\u001b[0;34m\u001b[0m\u001b[0;34m\u001b[0m\u001b[0m\n\u001b[0m\u001b[1;32m      5\u001b[0m \u001b[0mdf\u001b[0m\u001b[0;34m[\u001b[0m\u001b[0;34m'International_Trade'\u001b[0m\u001b[0;34m]\u001b[0m\u001b[0;34m=\u001b[0m\u001b[0mdf\u001b[0m\u001b[0;34m[\u001b[0m\u001b[0;34m'International_Trade'\u001b[0m\u001b[0;34m]\u001b[0m\u001b[0;34m.\u001b[0m\u001b[0mdiv\u001b[0m\u001b[0;34m(\u001b[0m\u001b[0;36m10\u001b[0m\u001b[0;34m**\u001b[0m\u001b[0;36m8\u001b[0m\u001b[0;34m)\u001b[0m\u001b[0;34m\u001b[0m\u001b[0;34m\u001b[0m\u001b[0m\n\u001b[1;32m      6\u001b[0m \u001b[0mdf\u001b[0m\u001b[0;34m.\u001b[0m\u001b[0mreset_index\u001b[0m\u001b[0;34m(\u001b[0m\u001b[0minplace\u001b[0m\u001b[0;34m=\u001b[0m\u001b[0;32mTrue\u001b[0m\u001b[0;34m)\u001b[0m\u001b[0;34m\u001b[0m\u001b[0;34m\u001b[0m\u001b[0m\n",
            "\u001b[0;32m/usr/local/lib/python3.7/dist-packages/pandas/util/_decorators.py\u001b[0m in \u001b[0;36mwrapper\u001b[0;34m(*args, **kwargs)\u001b[0m\n\u001b[1;32m    309\u001b[0m                     \u001b[0mstacklevel\u001b[0m\u001b[0;34m=\u001b[0m\u001b[0mstacklevel\u001b[0m\u001b[0;34m,\u001b[0m\u001b[0;34m\u001b[0m\u001b[0;34m\u001b[0m\u001b[0m\n\u001b[1;32m    310\u001b[0m                 )\n\u001b[0;32m--> 311\u001b[0;31m             \u001b[0;32mreturn\u001b[0m \u001b[0mfunc\u001b[0m\u001b[0;34m(\u001b[0m\u001b[0;34m*\u001b[0m\u001b[0margs\u001b[0m\u001b[0;34m,\u001b[0m \u001b[0;34m**\u001b[0m\u001b[0mkwargs\u001b[0m\u001b[0;34m)\u001b[0m\u001b[0;34m\u001b[0m\u001b[0;34m\u001b[0m\u001b[0m\n\u001b[0m\u001b[1;32m    312\u001b[0m \u001b[0;34m\u001b[0m\u001b[0m\n\u001b[1;32m    313\u001b[0m         \u001b[0;32mreturn\u001b[0m \u001b[0mwrapper\u001b[0m\u001b[0;34m\u001b[0m\u001b[0;34m\u001b[0m\u001b[0m\n",
            "\u001b[0;32m/usr/local/lib/python3.7/dist-packages/pandas/io/excel/_base.py\u001b[0m in \u001b[0;36mread_excel\u001b[0;34m(io, sheet_name, header, names, index_col, usecols, squeeze, dtype, engine, converters, true_values, false_values, skiprows, nrows, na_values, keep_default_na, na_filter, verbose, parse_dates, date_parser, thousands, comment, skipfooter, convert_float, mangle_dupe_cols, storage_options)\u001b[0m\n\u001b[1;32m    362\u001b[0m     \u001b[0;32mif\u001b[0m \u001b[0;32mnot\u001b[0m \u001b[0misinstance\u001b[0m\u001b[0;34m(\u001b[0m\u001b[0mio\u001b[0m\u001b[0;34m,\u001b[0m \u001b[0mExcelFile\u001b[0m\u001b[0;34m)\u001b[0m\u001b[0;34m:\u001b[0m\u001b[0;34m\u001b[0m\u001b[0;34m\u001b[0m\u001b[0m\n\u001b[1;32m    363\u001b[0m         \u001b[0mshould_close\u001b[0m \u001b[0;34m=\u001b[0m \u001b[0;32mTrue\u001b[0m\u001b[0;34m\u001b[0m\u001b[0;34m\u001b[0m\u001b[0m\n\u001b[0;32m--> 364\u001b[0;31m         \u001b[0mio\u001b[0m \u001b[0;34m=\u001b[0m \u001b[0mExcelFile\u001b[0m\u001b[0;34m(\u001b[0m\u001b[0mio\u001b[0m\u001b[0;34m,\u001b[0m \u001b[0mstorage_options\u001b[0m\u001b[0;34m=\u001b[0m\u001b[0mstorage_options\u001b[0m\u001b[0;34m,\u001b[0m \u001b[0mengine\u001b[0m\u001b[0;34m=\u001b[0m\u001b[0mengine\u001b[0m\u001b[0;34m)\u001b[0m\u001b[0;34m\u001b[0m\u001b[0;34m\u001b[0m\u001b[0m\n\u001b[0m\u001b[1;32m    365\u001b[0m     \u001b[0;32melif\u001b[0m \u001b[0mengine\u001b[0m \u001b[0;32mand\u001b[0m \u001b[0mengine\u001b[0m \u001b[0;34m!=\u001b[0m \u001b[0mio\u001b[0m\u001b[0;34m.\u001b[0m\u001b[0mengine\u001b[0m\u001b[0;34m:\u001b[0m\u001b[0;34m\u001b[0m\u001b[0;34m\u001b[0m\u001b[0m\n\u001b[1;32m    366\u001b[0m         raise ValueError(\n",
            "\u001b[0;32m/usr/local/lib/python3.7/dist-packages/pandas/io/excel/_base.py\u001b[0m in \u001b[0;36m__init__\u001b[0;34m(self, path_or_buffer, engine, storage_options)\u001b[0m\n\u001b[1;32m   1190\u001b[0m             \u001b[0;32melse\u001b[0m\u001b[0;34m:\u001b[0m\u001b[0;34m\u001b[0m\u001b[0;34m\u001b[0m\u001b[0m\n\u001b[1;32m   1191\u001b[0m                 ext = inspect_excel_format(\n\u001b[0;32m-> 1192\u001b[0;31m                     \u001b[0mcontent_or_path\u001b[0m\u001b[0;34m=\u001b[0m\u001b[0mpath_or_buffer\u001b[0m\u001b[0;34m,\u001b[0m \u001b[0mstorage_options\u001b[0m\u001b[0;34m=\u001b[0m\u001b[0mstorage_options\u001b[0m\u001b[0;34m\u001b[0m\u001b[0;34m\u001b[0m\u001b[0m\n\u001b[0m\u001b[1;32m   1193\u001b[0m                 )\n\u001b[1;32m   1194\u001b[0m                 \u001b[0;32mif\u001b[0m \u001b[0mext\u001b[0m \u001b[0;32mis\u001b[0m \u001b[0;32mNone\u001b[0m\u001b[0;34m:\u001b[0m\u001b[0;34m\u001b[0m\u001b[0;34m\u001b[0m\u001b[0m\n",
            "\u001b[0;32m/usr/local/lib/python3.7/dist-packages/pandas/io/excel/_base.py\u001b[0m in \u001b[0;36minspect_excel_format\u001b[0;34m(content_or_path, storage_options)\u001b[0m\n\u001b[1;32m   1069\u001b[0m \u001b[0;34m\u001b[0m\u001b[0m\n\u001b[1;32m   1070\u001b[0m     with get_handle(\n\u001b[0;32m-> 1071\u001b[0;31m         \u001b[0mcontent_or_path\u001b[0m\u001b[0;34m,\u001b[0m \u001b[0;34m\"rb\"\u001b[0m\u001b[0;34m,\u001b[0m \u001b[0mstorage_options\u001b[0m\u001b[0;34m=\u001b[0m\u001b[0mstorage_options\u001b[0m\u001b[0;34m,\u001b[0m \u001b[0mis_text\u001b[0m\u001b[0;34m=\u001b[0m\u001b[0;32mFalse\u001b[0m\u001b[0;34m\u001b[0m\u001b[0;34m\u001b[0m\u001b[0m\n\u001b[0m\u001b[1;32m   1072\u001b[0m     ) as handle:\n\u001b[1;32m   1073\u001b[0m         \u001b[0mstream\u001b[0m \u001b[0;34m=\u001b[0m \u001b[0mhandle\u001b[0m\u001b[0;34m.\u001b[0m\u001b[0mhandle\u001b[0m\u001b[0;34m\u001b[0m\u001b[0;34m\u001b[0m\u001b[0m\n",
            "\u001b[0;32m/usr/local/lib/python3.7/dist-packages/pandas/io/common.py\u001b[0m in \u001b[0;36mget_handle\u001b[0;34m(path_or_buf, mode, encoding, compression, memory_map, is_text, errors, storage_options)\u001b[0m\n\u001b[1;32m    709\u001b[0m         \u001b[0;32melse\u001b[0m\u001b[0;34m:\u001b[0m\u001b[0;34m\u001b[0m\u001b[0;34m\u001b[0m\u001b[0m\n\u001b[1;32m    710\u001b[0m             \u001b[0;31m# Binary mode\u001b[0m\u001b[0;34m\u001b[0m\u001b[0;34m\u001b[0m\u001b[0;34m\u001b[0m\u001b[0m\n\u001b[0;32m--> 711\u001b[0;31m             \u001b[0mhandle\u001b[0m \u001b[0;34m=\u001b[0m \u001b[0mopen\u001b[0m\u001b[0;34m(\u001b[0m\u001b[0mhandle\u001b[0m\u001b[0;34m,\u001b[0m \u001b[0mioargs\u001b[0m\u001b[0;34m.\u001b[0m\u001b[0mmode\u001b[0m\u001b[0;34m)\u001b[0m\u001b[0;34m\u001b[0m\u001b[0;34m\u001b[0m\u001b[0m\n\u001b[0m\u001b[1;32m    712\u001b[0m         \u001b[0mhandles\u001b[0m\u001b[0;34m.\u001b[0m\u001b[0mappend\u001b[0m\u001b[0;34m(\u001b[0m\u001b[0mhandle\u001b[0m\u001b[0;34m)\u001b[0m\u001b[0;34m\u001b[0m\u001b[0;34m\u001b[0m\u001b[0m\n\u001b[1;32m    713\u001b[0m \u001b[0;34m\u001b[0m\u001b[0m\n",
            "\u001b[0;31mFileNotFoundError\u001b[0m: [Errno 2] No such file or directory: 'All_Data_Formatted.xlsx'"
          ]
        }
      ],
      "source": [
        "import pandas as pd\n",
        "from pandas.tseries.holiday import USFederalHolidayCalendar as calendar\n",
        "#df = pd.read_csv('sales_indicators.csv',index_col=0)\n",
        "df = pd.read_excel('All_Data_Formatted.xlsx', skiprows=1,index_col=0)\n",
        "df['International_Trade']=df['International_Trade'].div(10**8)\n",
        "df.reset_index(inplace=True)\n",
        "df['date']=pd.to_datetime(df['date'])\n",
        "df['year'] = df['date'].dt.year\n",
        "df['month'] = df['date'].dt.month"
      ]
    },
    {
      "cell_type": "code",
      "execution_count": null,
      "metadata": {
        "id": "mWSrH7QIcygF"
      },
      "outputs": [],
      "source": [
        "df['Holiday'] = df['month'].isin([12])\n",
        "df.Holiday.sum()"
      ]
    },
    {
      "cell_type": "code",
      "execution_count": null,
      "metadata": {
        "id": "cbryBgNEYeFo"
      },
      "outputs": [],
      "source": [
        "df.replace({False: 0, True: 1}, inplace=True)\n",
        "df"
      ]
    },
    {
      "cell_type": "code",
      "execution_count": null,
      "metadata": {
        "id": "GmXcBfB8XK4P"
      },
      "outputs": [],
      "source": [
        "df.set_index('date', inplace=True)\n",
        "df"
      ]
    },
    {
      "cell_type": "code",
      "execution_count": null,
      "metadata": {
        "id": "TpuVmEUMX5VL"
      },
      "outputs": [],
      "source": [
        "df.columns"
      ]
    },
    {
      "cell_type": "code",
      "execution_count": null,
      "metadata": {
        "id": "oXyc9ETwYIVK"
      },
      "outputs": [],
      "source": [
        "df.describe()"
      ]
    },
    {
      "cell_type": "code",
      "execution_count": null,
      "metadata": {
        "id": "-H0nmAbTMP4m"
      },
      "outputs": [],
      "source": [
        "# #break time periods\n",
        "# #2010-2019 June\n",
        "# #2019 July-2019 Dec\n",
        "# df_2010_2019June=df.iloc[84:198,:]\n",
        "# df_2010_2019June\n",
        "\n",
        "# df_2010_2018Dec=df.iloc[84:192,:]\n",
        "# df_2010_2018Dec\n",
        "\n",
        "df_2010_2019=df.iloc[84:204,:]\n",
        "df_2010_2019"
      ]
    },
    {
      "cell_type": "code",
      "execution_count": null,
      "metadata": {
        "id": "-MSL6GabMpjz"
      },
      "outputs": [],
      "source": [
        "# df_2019July_Dec=df.iloc[198:204,:]\n",
        "# df_2019July_Dec\n",
        "\n",
        "# df_2019=df.iloc[192:204,:]\n",
        "# df_2019"
      ]
    },
    {
      "cell_type": "code",
      "execution_count": null,
      "metadata": {
        "id": "WHSCmWtaQDLI"
      },
      "outputs": [],
      "source": [
        "# df.head()"
      ]
    },
    {
      "cell_type": "code",
      "execution_count": null,
      "metadata": {
        "id": "kZvrBLOFBaBv"
      },
      "outputs": [],
      "source": [
        "row_num=df_2010_2019.shape[0]\n",
        "#row_num#120\n",
        "120*2/3"
      ]
    },
    {
      "cell_type": "code",
      "execution_count": null,
      "metadata": {
        "id": "VrDZ0-edHkgp"
      },
      "outputs": [],
      "source": [
        "##################################################testing function \n",
        "def neural_net(department,econ_id,ep,bat):\n",
        "  import sys\n",
        "  Y = df_2010_2019.loc[:,department] \n",
        "  print(Y)\n",
        "  x_temp=['year','month']+econ_id\n",
        "  X = df_2010_2019.loc[:,x_temp]\n",
        "  #X = df_2010_2018Dec.loc[:,['year','month']]\n",
        "\n",
        "  #Split train and test\n",
        "  X_train, X_test, y_train, y_test = train_test_split(X, Y, test_size = 1/10, shuffle=True)\n",
        "\n",
        "  #Count features for modelization\n",
        "  X_num_columns= len(X.columns)\n",
        "\n",
        "  # normalizer=layers.Normalizaton()\n",
        "  # normalizer.adapt(X_train)\n",
        "\n",
        "  model = Sequential()\n",
        "  # model.add(normalizer)\n",
        "  model.add(Dense(120, activation='relu',input_dim = X_num_columns))\n",
        "  model.add(Dropout(0.2))\n",
        "  model.add(Dense(60, activation='relu'))\n",
        "  model.add(Dense(1,activation='linear'))\n",
        "  # don't ever put dropout layer in the output layer\n",
        "  # don't dropout \n",
        "  \n",
        "  #model.add(Dropout(0.2))\n",
        "\n",
        "  # model.add(Dense(30,\n",
        "  #               activation='relu'))\n",
        "  # model.add(Dropout(0.2))\n",
        "\n",
        "  model.compile(optimizer='adam', loss='mean_squared_error')\n",
        "\n",
        "  model.fit(X_train, y_train, epochs=ep, batch_size=bat)\n",
        "\n",
        "  loss = model.evaluate(X_test, y_test)\n",
        "  # relative error \n",
        "  result=(df_2010_2019[department].std()-np.sqrt(loss))/df_2010_2019[department].std()\n",
        "  return result"
      ]
    },
    {
      "cell_type": "code",
      "execution_count": null,
      "metadata": {
        "id": "hcdKf0WB49MY"
      },
      "outputs": [],
      "source": [
        "# econ_id=['indust_prod', 'mortgage_rate30']\n",
        "# x_temp=['year','month']+econ_id\n",
        "# print(x_temp)"
      ]
    },
    {
      "cell_type": "code",
      "execution_count": null,
      "metadata": {
        "id": "d6L4l8PAo0mK"
      },
      "outputs": [],
      "source": [
        "##########################################testing each department with single economic indicators\n",
        "# sales=['RSAFS', 'RSFSXMV', 'RSHPCS', 'RSGASS', 'RSCCAS', 'RSSGHBMS', 'RSGMS', 'RSDSELD', 'RSMSR', 'RSNSR', 'RSFSDP', 'RSXFS']\n",
        "# sales=['RSAFS', 'RSFSXMV']\n",
        "sales=['RSNSR', 'RSFSDP']\n",
        "econ_indicators=['indust_prod', 'mortgage_rate30', 'International_Trade', 'CPI','Holiday']\n",
        "\n",
        "# epoch = [64,512]\n",
        "batch = [16]\n",
        "# batch = [16,25,32,64]\n",
        "\n",
        "# ep = 512\n",
        "ep = 128\n",
        "# ep = 64\n",
        "\n",
        "\n",
        "#creating combinations of economic indicators\n",
        "comb1 = ['indust_prod', 'mortgage_rate30', 'International_Trade', 'CPI','Holiday']\n",
        "comb1 = list(map(lambda el:[el], comb1))\n",
        "# print(len(comb1))\n",
        "\n",
        "from itertools import combinations\n",
        "comb2 = list(combinations(econ_indicators, 2))\n",
        "comb2 = list(map(list, comb2))\n",
        "# print(len(comb2))\n",
        "\n",
        "comb3 = list(combinations(econ_indicators, 3))\n",
        "comb3 = list(map(list, comb3))\n",
        "# print(len(comb3))\n",
        "\n",
        "comb4 = list(combinations(econ_indicators, 4))\n",
        "comb4 = list(map(list, comb2))\n",
        "# print(len(comb4))\n",
        "\n",
        "comb5 = [['indust_prod', 'mortgage_rate30', 'International_Trade', 'CPI','Holiday']]\n",
        "# print(len(comb5))\n",
        "\n",
        "comb_econ_indicators = comb1+comb2\n",
        "# comb_econ_indicators = comb1+comb2+comb3+comb4+comb5\n",
        "\n",
        "# def neural_net(department,econ_id,ep,bat):\n",
        "#   return 1\n",
        "\n",
        "# print(len(sales))#12\n",
        "# print(len(comb_econ_indicators))#36\n",
        "\n",
        "import numpy as np\n",
        "loss = np.zeros((len(batch), len(sales), len(comb_econ_indicators)))\n",
        "#print(loss)\n",
        "# for department,econ_id in zip(sales, comb_econ_indicators):\n",
        "#   temp = [neural_net(department,econ_id,ep,bat) for bat in batch]\n",
        "#   loss.append(temp)\n",
        "\n",
        "\n",
        "for i, bat in enumerate(batch):\n",
        "  for j, department in enumerate(sales):\n",
        "      for k, econ_id in enumerate(comb_econ_indicators):\n",
        "        temp = neural_net(department,econ_id,ep,bat)\n",
        "        loss[i,j,k]=temp\n",
        "\n",
        "\n",
        "\n",
        "\n",
        "#department='RSAFS'\n",
        "# econ_id=['indust_prod', 'mortgage_rate30']\n",
        "# ep = 512\n",
        "# bat = 32\n",
        "#neural_net(department,econ_id,ep,bat)\n",
        "\n",
        "# sales_indust = [neural_net(i,econ_id,ep,bat) for i in sales]\n",
        "#sales_mortgage = [neural_net(i,econ_id,ep,bat) for i in sales]\n",
        "#sales_intern = [neural_net(i,econ_id,ep,bat) for i in sales]\n",
        "#sales_cpi = [neural_net(i,econ_id,ep,bat) for i in sales]\n",
        "\n"
      ]
    },
    {
      "cell_type": "code",
      "execution_count": null,
      "metadata": {
        "id": "yMp44bEb1xBr"
      },
      "outputs": [],
      "source": [
        "# np.sum(loss)\n",
        "# loss.shape\n",
        "print(loss)\n",
        "print(loss.shape)"
      ]
    },
    {
      "cell_type": "code",
      "execution_count": null,
      "metadata": {
        "id": "Ndd9rqhi3_2A"
      },
      "outputs": [],
      "source": [
        "df_loss=pd.DataFrame(data = [[x] for x in loss])\n",
        "df_loss.to_csv(\"loss.csv\")"
      ]
    }
  ],
  "metadata": {
    "accelerator": "TPU",
    "colab": {
      "machine_shape": "hm",
      "provenance": []
    },
    "gpuClass": "standard",
    "kernelspec": {
      "display_name": "Python 3",
      "name": "python3"
    },
    "language_info": {
      "name": "python"
    }
  },
  "nbformat": 4,
  "nbformat_minor": 0
}